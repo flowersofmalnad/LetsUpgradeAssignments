{
 "cells": [
  {
   "cell_type": "code",
   "execution_count": 2,
   "metadata": {},
   "outputs": [
    {
     "data": {
      "text/plain": [
       "array([ 2,  5,  8, 11, 14, 17, 20, 23, 26, 29, 32, 35, 38, 41, 44, 47])"
      ]
     },
     "execution_count": 2,
     "metadata": {},
     "output_type": "execute_result"
    }
   ],
   "source": [
    "#Question 1\n",
    "import numpy as np\n",
    "arr=np.arange(start=2,stop=50,step=3)\n",
    "arr"
   ]
  },
  {
   "cell_type": "code",
   "execution_count": 3,
   "metadata": {},
   "outputs": [
    {
     "name": "stdout",
     "output_type": "stream",
     "text": [
      "Enter the list 1 items: 9 2 10 6 1\n",
      "Enter the list 2 items: 5 3 7 4 8\n",
      "The list 1 is: [9, 2, 10, 6, 1]\n",
      "The list 2 is: [5, 3, 7, 4, 8]\n",
      "\n",
      "The 1st numpy array is: [[ 9  2 10  6  1]]\n",
      "\n",
      "The 2nd numpy array is: [[5 3 7 4 8]]\n",
      "\n",
      "The concatenation of 2 arrays is: [[ 9  2 10  6  1  5  3  7  4  8]]\n",
      "\n",
      "The sorted array is: [[ 1  2  3  4  5  6  7  8  9 10]]\n"
     ]
    }
   ],
   "source": [
    "#Question 2\n",
    "list1=[]\n",
    "list2=[]\n",
    "n=5\n",
    "list1=[int(item)for item in input(\"Enter the list 1 items: \").split()]\n",
    "list2=[int(item)for item in input(\"Enter the list 2 items: \").split()]\n",
    "print(\"The list 1 is:\" ,list1)\n",
    "print(\"The list 2 is:\" ,list2)\n",
    "print('')\n",
    "arr1=np.array([list1])\n",
    "print(\"The 1st numpy array is:\" ,arr1)\n",
    "print('')\n",
    "arr2=np.array([list2])\n",
    "print(\"The 2nd numpy array is:\" ,arr2)\n",
    "print('')\n",
    "arr3=np.concatenate((arr1,arr2),axis=1)\n",
    "print(\"The concatenation of 2 arrays is:\" ,arr3)\n",
    "print('')\n",
    "\n",
    "arr4=np.sort(arr3)\n",
    "print(\"The sorted array is:\" ,arr4)\n"
   ]
  },
  {
   "cell_type": "code",
   "execution_count": 4,
   "metadata": {},
   "outputs": [
    {
     "name": "stdout",
     "output_type": "stream",
     "text": [
      "Array is of type:  <class 'numpy.ndarray'>\n",
      "No. of dimensions:  2\n",
      "Shape of array:  (2, 3)\n",
      "Size of array:  6\n",
      "Array stores elements of type:  int32\n"
     ]
    }
   ],
   "source": [
    "#Question 3\n",
    "arr = np.array( [[ 1, 2, 3],\n",
    "                 [ 4, 2, 5]] )\n",
    "\n",
    "# Printing type of arr object\n",
    "print(\"Array is of type: \", type(arr))\n",
    "\n",
    "# Printing array dimensions (axes)\n",
    "print(\"No. of dimensions: \", arr.ndim)\n",
    "\n",
    "# Printing shape of array\n",
    "print(\"Shape of array: \", arr.shape)\n",
    "\n",
    "# Printing size (total number of elements) of array\n",
    "print(\"Size of array: \", arr.size)\n",
    "\n",
    "# Printing type of elements in array\n",
    "print(\"Array stores elements of type: \", arr.dtype)"
   ]
  },
  {
   "cell_type": "code",
   "execution_count": 5,
   "metadata": {},
   "outputs": [
    {
     "name": "stdout",
     "output_type": "stream",
     "text": [
      "The 1-d array is: [0 1 2 3 4 5 6 7 8 9]\n",
      "(10,)\n",
      "\n",
      "The 2-d array using np.newaxis is:\n",
      "[[0]\n",
      " [1]\n",
      " [2]\n",
      " [3]\n",
      " [4]\n",
      " [5]\n",
      " [6]\n",
      " [7]\n",
      " [8]\n",
      " [9]]\n",
      "(10, 1)\n",
      "\n",
      "The 2-d array using np.expand_dims in x-axis is:\n",
      "[[0 1 2 3 4 5 6 7 8 9]]\n",
      "(1, 10)\n",
      "\n",
      "The 2-d array using np.expand_dims in y-axis is:\n",
      "[[0]\n",
      " [1]\n",
      " [2]\n",
      " [3]\n",
      " [4]\n",
      " [5]\n",
      " [6]\n",
      " [7]\n",
      " [8]\n",
      " [9]]\n",
      "(10, 1)\n"
     ]
    }
   ],
   "source": [
    "#Question 4\n",
    "a = np.arange(10)\n",
    "print(\"The 1-d array is:\" ,a)\n",
    "print(a.shape)\n",
    "print()\n",
    "b=a[:, np.newaxis,]\n",
    "print(\"The 2-d array using np.newaxis is:\" )\n",
    "print(b)\n",
    "print(b.shape)\n",
    "print()\n",
    "c=np.expand_dims(a,axis=0)\n",
    "print(\"The 2-d array using np.expand_dims in x-axis is:\")\n",
    "print(c)\n",
    "print(c.shape)\n",
    "print()\n",
    "d=np.expand_dims(a,axis=1)\n",
    "print(\"The 2-d array using np.expand_dims in y-axis is:\")\n",
    "print(d)\n",
    "print(d.shape)"
   ]
  },
  {
   "cell_type": "code",
   "execution_count": 6,
   "metadata": {},
   "outputs": [
    {
     "name": "stdout",
     "output_type": "stream",
     "text": [
      "[[  1   4   9]\n",
      " [ 16  25  36]\n",
      " [ 49  64  81]\n",
      " [121 144 169]\n",
      " [196 225 256]\n",
      " [289 324 361]]\n",
      "[[  1   4   9 121 144 169]\n",
      " [ 16  25  36 196 225 256]\n",
      " [ 49  64  81 289 324 361]]\n"
     ]
    }
   ],
   "source": [
    "#Question 5\n",
    "arr1=np.array([ [1 ,2, 3] , [4, 5, 6] ,[7, 8, 9]])\n",
    "arr2=np.array([ [11, 12, 13] , [14 , 15, 16] ,[17, 18, 19]])\n",
    "sq_arr1=np.square(arr1)\n",
    "sq_arr2=np.square(arr2)\n",
    "\n",
    "out_arr1=np.vstack((sq_arr1,sq_arr2))\n",
    "print(out_arr1)\n",
    "\n",
    "out_arr2=np.hstack((sq_arr1,sq_arr2))\n",
    "print(out_arr2)"
   ]
  },
  {
   "cell_type": "code",
   "execution_count": 8,
   "metadata": {},
   "outputs": [
    {
     "name": "stdout",
     "output_type": "stream",
     "text": [
      "[[1 3]\n",
      " [2 1]\n",
      " [3 1]\n",
      " [4 2]]\n"
     ]
    }
   ],
   "source": [
    "#Question 6\n",
    "\n",
    "#USE numpy.unique() TO COUNT THE FREQUENCY OF ALL UNIQUE VALUES IN A LIST\n",
    "#Call numpy.unique(arr, return_counts=False) with return_count set to True to return a tuple containing the list of unique values in arr and a list of their corresponding frequencies. Use numpy.asarray(a) with this tuple as a to convert it to an array. Use numpy.ndarray.T to transpose this array to reflect the unique values in the original array and their corresponding counts.\n",
    "import numpy\n",
    "number_list = numpy.array([1, 1, 2, 3, 4, 4, 1])\n",
    "\n",
    "(unique, counts) = numpy.unique(number_list, return_counts=True)\n",
    "frequencies = numpy.asarray((unique, counts)).T\n",
    "\n",
    "print(frequencies)"
   ]
  }
 ],
 "metadata": {
  "kernelspec": {
   "display_name": "Python 3",
   "language": "python",
   "name": "python3"
  },
  "language_info": {
   "codemirror_mode": {
    "name": "ipython",
    "version": 3
   },
   "file_extension": ".py",
   "mimetype": "text/x-python",
   "name": "python",
   "nbconvert_exporter": "python",
   "pygments_lexer": "ipython3",
   "version": "3.8.3"
  }
 },
 "nbformat": 4,
 "nbformat_minor": 4
}
