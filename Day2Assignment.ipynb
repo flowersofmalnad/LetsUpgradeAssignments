{
 "cells": [
  {
   "cell_type": "code",
   "execution_count": 7,
   "metadata": {},
   "outputs": [
    {
     "name": "stdout",
     "output_type": "stream",
     "text": [
      "Enter element:2\n",
      "The list is: [2]\n",
      "Enter element:1\n",
      "The list is: [2]\n",
      "Enter element:3\n",
      "The list is: [2]\n",
      "Enter element:4\n",
      "The list is: [2]\n",
      "The list is: [2, 4]\n",
      "Enter element:5\n",
      "The list is: [2]\n",
      "The list is: [2, 4]\n",
      "Enter element:6\n",
      "The list is: [2]\n",
      "The list is: [2, 4]\n",
      "The list is: [2, 4, 6]\n",
      "Enter element:7\n",
      "The list is: [2]\n",
      "The list is: [2, 4]\n",
      "The list is: [2, 4, 6]\n",
      "Enter element:8\n",
      "The list is: [2]\n",
      "The list is: [2, 4]\n",
      "The list is: [2, 4, 6]\n",
      "The list is: [2, 4, 6, 8]\n",
      "Enter element:9\n",
      "The list is: [2]\n",
      "The list is: [2, 4]\n",
      "The list is: [2, 4, 6]\n",
      "The list is: [2, 4, 6, 8]\n",
      "Enter element:10\n",
      "The list is: [2]\n",
      "The list is: [2, 4]\n",
      "The list is: [2, 4, 6]\n",
      "The list is: [2, 4, 6, 8]\n",
      "The list is: [2, 4, 6, 8, 10]\n",
      "Only 10 elements accepted.\n",
      "The list is: [2, 4, 6, 8, 10]\n"
     ]
    }
   ],
   "source": [
    "#Question 1\n",
    "a=[]\n",
    "n=10\n",
    "for i in range(0,n+1):\n",
    "    b=int(input(\"Enter element:\"))\n",
    "    a.append(b)\n",
    "    even=[]\n",
    "    for j in a:\n",
    "        if(j % 2 == 0):\n",
    "            even.append(j)\n",
    "            print(\"The list is:\" ,even)\n",
    "        \n",
    "    if (i > n-2):\n",
    "        print(\"Only\" ,n,\"elements accepted.\")\n",
    "        break;\n",
    "print(\"The list is:\" ,even)"
   ]
  },
  {
   "cell_type": "code",
   "execution_count": 16,
   "metadata": {},
   "outputs": [
    {
     "name": "stdout",
     "output_type": "stream",
     "text": [
      "Output list of even numbers from the input list using List comprehensions: [2, 4, 6, 8]\n",
      "\n",
      "Output list of square numbers from the input list using List comprehensions: [1, 4, 9, 16, 25, 36, 49, 64, 81]\n",
      "\n",
      "Output list of numbers below 100 which are divisible by both 2 and 5 : [0, 10, 20, 30, 40, 50, 60, 70, 80, 90]\n"
     ]
    }
   ],
   "source": [
    "#Question 2\n",
    "#Using List comprehensions for having output list of even numbers which are present in the input list\n",
    "list=[1,2,3,4,5,6,7,8,9]\n",
    "output_list=[var for var in list if var%2==0]\n",
    "print(\"Output list of even numbers from the input list using List comprehensions:\" ,output_list)\n",
    "\n",
    "#Using List comprehensions for having output list of square numbers which are present in the input list\n",
    "list=[1,2,3,4,5,6,7,8,9]\n",
    "output_list=[var**2 for var in list]\n",
    "print(\"\")\n",
    "print(\"Output list of square numbers from the input list using List comprehensions:\" ,output_list)\n",
    "\n",
    "#Using List comprehensions for having output list of numbers less than 100 which are divisible by 2 and 5 both\n",
    "output_list=[x for x in range (100) if x%2==0  if x%5==0]\n",
    "print(\"\")\n",
    "print(\"Output list of numbers below 100 which are divisible by both 2 and 5 :\",output_list)"
   ]
  },
  {
   "cell_type": "code",
   "execution_count": 21,
   "metadata": {},
   "outputs": [
    {
     "name": "stdout",
     "output_type": "stream",
     "text": [
      "8\n",
      "{1: 1, 2: 4, 3: 9, 4: 16, 5: 25, 6: 36, 7: 49, 8: 64}\n"
     ]
    }
   ],
   "source": [
    "a=int(input())\n",
    "dict={var:var**2 for var in range (1,a+1)}\n",
    "print(dict)"
   ]
  },
  {
   "cell_type": "code",
   "execution_count": 54,
   "metadata": {},
   "outputs": [
    {
     "name": "stdout",
     "output_type": "stream",
     "text": [
      "2\n"
     ]
    }
   ],
   "source": [
    "import math\n",
    "#Init vars\n",
    "pos=[0,0]\n",
    "moves={\"UP\":[0,1],\n",
    "       \"DOWN\":[0,-1],\n",
    "       \"LEFT\":[-1,0],\n",
    "       \"RIGHT\":[1,0]}\n",
    "\n",
    "#Set inputs\n",
    "data=[\"UP 5\",\n",
    "    \"DOWN 3\",\n",
    "    \"LEFT 3\",\n",
    "    \"RIGHT 2\"]\n",
    "\n",
    "#Move robot on valid moves\n",
    "for inp in data:\n",
    "    parts=inp.split()    \n",
    "    mv=parts[0]\n",
    "    val=parts[1]\n",
    "    if mv in moves and val.isnumeric():\n",
    "        pos[0] += moves[mv][0]*int(val)\n",
    "        pos[1] += moves[mv][1]*int(val)\n",
    "\n",
    "#get distance     \n",
    "distance=math.sqrt(pos[0]**2 + pos[1]**2)\n",
    "\n",
    "print(round(distance))\n",
    "\n",
    "#Or with nearest integer,but its weird\n",
    "#print(round(distance),\"from [0,0] to\",pos)"
   ]
  }
 ],
 "metadata": {
  "kernelspec": {
   "display_name": "Python 3",
   "language": "python",
   "name": "python3"
  },
  "language_info": {
   "codemirror_mode": {
    "name": "ipython",
    "version": 3
   },
   "file_extension": ".py",
   "mimetype": "text/x-python",
   "name": "python",
   "nbconvert_exporter": "python",
   "pygments_lexer": "ipython3",
   "version": "3.8.3"
  }
 },
 "nbformat": 4,
 "nbformat_minor": 4
}
