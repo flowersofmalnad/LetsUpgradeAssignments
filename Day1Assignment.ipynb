{
 "cells": [
  {
   "cell_type": "code",
   "execution_count": null,
   "metadata": {},
   "outputs": [],
   "source": [
    "#Question 1:\n",
    "    Answer-option B.RAINBOW\n",
    "    "
   ]
  },
  {
   "cell_type": "code",
   "execution_count": 4,
   "metadata": {},
   "outputs": [
    {
     "name": "stdout",
     "output_type": "stream",
     "text": [
      "LETS UPGRADE\n"
     ]
    }
   ],
   "source": [
    "#Question 2:\n",
    "print(\"LETS UPGRADE\")"
   ]
  },
  {
   "cell_type": "code",
   "execution_count": 23,
   "metadata": {},
   "outputs": [
    {
     "name": "stdout",
     "output_type": "stream",
     "text": [
      "19\n",
      "19\n",
      "Neither\n"
     ]
    }
   ],
   "source": [
    "#Question 3:\n",
    "costprice=int(input())\n",
    "sellingprice=int(input())\n",
    "if(costprice>sellingprice):\n",
    "    print(\"Loss\")\n",
    "elif(sellingprice>costprice):\n",
    "    print(\"Profit\")\n",
    "else:\n",
    "    print(\"Neither\")\n",
    "    "
   ]
  },
  {
   "cell_type": "code",
   "execution_count": 27,
   "metadata": {},
   "outputs": [
    {
     "name": "stdout",
     "output_type": "stream",
     "text": [
      "7\n",
      "560\n"
     ]
    }
   ],
   "source": [
    "#Question 4:\n",
    "euros=int(input())\n",
    "eurosInRupees=euros*80\n",
    "print(eurosInRupees)"
   ]
  }
 ],
 "metadata": {
  "kernelspec": {
   "display_name": "Python 3",
   "language": "python",
   "name": "python3"
  },
  "language_info": {
   "codemirror_mode": {
    "name": "ipython",
    "version": 3
   },
   "file_extension": ".py",
   "mimetype": "text/x-python",
   "name": "python",
   "nbconvert_exporter": "python",
   "pygments_lexer": "ipython3",
   "version": "3.8.3"
  }
 },
 "nbformat": 4,
 "nbformat_minor": 4
}
